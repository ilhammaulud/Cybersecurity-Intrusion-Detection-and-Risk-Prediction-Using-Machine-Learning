{
 "cells": [
  {
   "cell_type": "code",
   "execution_count": 1,
   "id": "d09bdf22",
   "metadata": {},
   "outputs": [],
   "source": [
    "import pandas as pd\n",
    "import joblib"
   ]
  },
  {
   "cell_type": "code",
   "execution_count": null,
   "id": "aee82acd",
   "metadata": {},
   "outputs": [
    {
     "name": "stdout",
     "output_type": "stream",
     "text": [
      "Model 'XGBoost_best_model.joblib' berhasil dimuat.\n"
     ]
    }
   ],
   "source": [
    "filename = \"XGBoost_best_model.joblib\" \n",
    "loaded_model = joblib.load(filename)\n",
    "\n",
    "print(f\"Model '{filename}' Successfully loaded.\")"
   ]
  },
  {
   "cell_type": "code",
   "execution_count": null,
   "id": "e246efe7",
   "metadata": {},
   "outputs": [],
   "source": [
    "# New data example\n",
    "new_data = {\n",
    "    'session_id': 'SID_99999',\n",
    "    'network_packet_size': 600,\n",
    "    'protocol_type': 'UDP',\n",
    "    'login_attempts': 1,\n",
    "    'session_duration': 30,\n",
    "    'encryption_used': 'none',\n",
    "    'ip_reputation_score': 0.01,\n",
    "    'failed_logins': 0,\n",
    "    'browser_type': 'Unknown',\n",
    "    'unusual_time_access': 1\n",
    "}\n",
    "\n",
    "# Convert to DataFrame\n",
    "df_new = pd.DataFrame([new_data])"
   ]
  },
  {
   "cell_type": "code",
   "execution_count": null,
   "id": "daedbbd6",
   "metadata": {},
   "outputs": [
    {
     "name": "stdout",
     "output_type": "stream",
     "text": [
      "Prediksi: Normal\n",
      "Probabilitas Serangan: 0.06\n"
     ]
    }
   ],
   "source": [
    "# Prediction\n",
    "pred = loaded_model.predict(df_new)           # Prediction kelas (0 or 1)\n",
    "pred_proba = loaded_model.predict_proba(df_new)  # Probability\n",
    "\n",
    "# Result\n",
    "print(f\"Prediksi: {'Serangan Terdeteksi' if pred[0] == 1 else 'Normal'}\")\n",
    "print(f\"Probabilitas Serangan: {pred_proba[0][1]:.2f}\")"
   ]
  }
 ],
 "metadata": {
  "kernelspec": {
   "display_name": "base",
   "language": "python",
   "name": "python3"
  },
  "language_info": {
   "codemirror_mode": {
    "name": "ipython",
    "version": 3
   },
   "file_extension": ".py",
   "mimetype": "text/x-python",
   "name": "python",
   "nbconvert_exporter": "python",
   "pygments_lexer": "ipython3",
   "version": "3.13.5"
  }
 },
 "nbformat": 4,
 "nbformat_minor": 5
}
